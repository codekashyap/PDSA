{
 "cells": [
  {
   "cell_type": "code",
   "execution_count": null,
   "metadata": {},
   "outputs": [],
   "source": [
    "'''Design a data structure that follows the constraints of a Least Recently Used (LRU) cache.\n",
    "\n",
    "Implement the LRUCache class:\n",
    "\n",
    "LRUCache(int capacity) Initialize the LRU cache with positive size capacity.\n",
    "int get(int key) Return the value of the key if the key exists, otherwise return -1.\n",
    "void put(int key, int value) Update the value of the key if the key exists. Otherwise, add the key-value pair to the cache. If the number of keys exceeds the capacity from this operation, evict the least recently used key.\n",
    "The functions get and put must each run in O(1) average time complexity.'''\n",
    "\n",
    "\n",
    "class Node:\n",
    "    def __init__(self,key,val):\n",
    "        self.key = key\n",
    "        self.val = val\n",
    "        self.next = None\n",
    "        self.prev = None\n",
    "\n",
    "class LRUCache:\n",
    "    def __init__(self, capacity: int):\n",
    "        self.capacity = capacity\n",
    "        self.dict = dict()\n",
    "        self.head = Node(0,0)\n",
    "        self.tail = Node(0,0)\n",
    "        self.head.next = self.tail\n",
    "        self.tail.prev = self.head\n",
    "\n",
    "    def get(self, key: int) -> int:\n",
    "        if key in self.dict:\n",
    "            n = self.dict[key]\n",
    "            self._remove(n)\n",
    "            self._add(n)\n",
    "            return n.val\n",
    "        return -1\n",
    "\n",
    "    def put(self, key: int, value: int) -> None:\n",
    "        if key in self.dict:\n",
    "            self._remove(self.dict[key])\n",
    "        n = Node(key,value)\n",
    "        self._add(n)\n",
    "        self.dict[key] = n\n",
    "        if len(self.dict) > self.capacity:\n",
    "            n = self.head.next\n",
    "            self._remove(n)\n",
    "            del self.dict[n.key]\n",
    "    def _remove(self, node):\n",
    "        p = node.prev\n",
    "        n = node.next\n",
    "        p.next = n\n",
    "        n.prev = p\n",
    "\n",
    "    def _add(self, node):\n",
    "        p = self.tail.prev\n",
    "        p.next = node\n",
    "        self.tail.prev = node\n",
    "        node.prev = p\n",
    "        node.next = self.tail\n",
    "        \n",
    "\n",
    "\n",
    "# Your LRUCache object will be instantiated and called as such:\n",
    "# obj = LRUCache(capacity)\n",
    "# param_1 = obj.get(key)\n",
    "# obj.put(key,value)"
   ]
  },
  {
   "cell_type": "code",
   "execution_count": 17,
   "metadata": {},
   "outputs": [],
   "source": [
    "# 6. stock span problem\n",
    "\n",
    "class StockSpanner:\n",
    "    def __init__(self):\n",
    "        self.stack = []\n",
    "        \n",
    "    def next(self, price: int):\n",
    "        res = 1\n",
    "        while self.stack and self.stack[-1][0] <= price:\n",
    "            res += self.stack.pop()[1]\n",
    "        self.stack.append([price,res])\n",
    "        return res"
   ]
  },
  {
   "cell_type": "code",
   "execution_count": 16,
   "metadata": {},
   "outputs": [
    {
     "data": {
      "text/plain": [
       "[1, 1, 2, 1, 4, 6]"
      ]
     },
     "execution_count": 16,
     "metadata": {},
     "output_type": "execute_result"
    }
   ],
   "source": [
    "# 6. stock span problem -- AV Method using NGL\n",
    "\n",
    "def stockspan(stock):\n",
    "    stack = []\n",
    "    ans = []\n",
    "    for i in range(0,len(stock)):\n",
    "        if len(stock) == 0:\n",
    "            ans.append(i-1)\n",
    "        elif len(stack)>0 and stack[-1][0] > stock[i]:\n",
    "            ans.append(i-stack[-1][1])\n",
    "        elif len(stack)>0 and stack[-1][0] < stock[i]:\n",
    "            while len(stack)>0 and stack[-1][0] < stock[i]:\n",
    "                stack.pop()\n",
    "            if len(stack) == 0:\n",
    "                ans.append(i-1)\n",
    "            else:\n",
    "                ans.append(i-stack[-1][1])\n",
    "        stack.append([stock[i],i])\n",
    "    return ans \n",
    "stockspan([100,80,60,70,60,75,85])"
   ]
  },
  {
   "cell_type": "code",
   "execution_count": null,
   "metadata": {},
   "outputs": [],
   "source": [
    "# 7.largest-rectangle-in-histogram --- https://leetcode.com/problems/largest-rectangle-in-histogram/\n",
    "\n"
   ]
  },
  {
   "cell_type": "code",
   "execution_count": null,
   "metadata": {},
   "outputs": [],
   "source": []
  },
  {
   "cell_type": "code",
   "execution_count": null,
   "metadata": {},
   "outputs": [],
   "source": []
  }
 ],
 "metadata": {
  "kernelspec": {
   "display_name": "py3-TF2.0",
   "language": "python",
   "name": "python3"
  },
  "language_info": {
   "codemirror_mode": {
    "name": "ipython",
    "version": 3
   },
   "file_extension": ".py",
   "mimetype": "text/x-python",
   "name": "python",
   "nbconvert_exporter": "python",
   "pygments_lexer": "ipython3",
   "version": "3.9.15"
  },
  "orig_nbformat": 4
 },
 "nbformat": 4,
 "nbformat_minor": 2
}
