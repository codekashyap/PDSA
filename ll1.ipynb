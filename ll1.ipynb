{
 "cells": [
  {
   "cell_type": "code",
   "execution_count": 3,
   "metadata": {},
   "outputs": [
    {
     "data": {
      "text/plain": [
       "'recurvise way -> slower in python but not in c++\\nclass Solution:\\n    def reverseList(self, head: Optional[ListNode]) -> Optional[ListNode]:\\n        if not head or not head.next:\\n            return head\\n        node = self.reverseList(head.next)\\n        head.next.next = head\\n        head.next = None\\n        return node'"
      ]
     },
     "execution_count": 3,
     "metadata": {},
     "output_type": "execute_result"
    }
   ],
   "source": [
    "# Reverse ll\n",
    "# Definition for singly-linked list.\n",
    "# class ListNode:\n",
    "#     def __init__(self, val=0, next=None):\n",
    "#         self.val = val\n",
    "#         self.next = next\n",
    "class Solution:\n",
    "    def reverseList(self, head):\n",
    "        prev_p = None\n",
    "        curr_p =  head\n",
    "        while (curr_p != None):\n",
    "            next_p = curr_p.next\n",
    "            curr_p.next = prev_p\n",
    "            prev_p = curr_p\n",
    "            curr_p = next_p\n",
    "        head = prev_p\n",
    "        return head\n",
    "\n",
    "\n",
    "'''recurvise way -> slower in python but not in c++\n",
    "class Solution:\n",
    "    def reverseList(self, head: Optional[ListNode]) -> Optional[ListNode]:\n",
    "        if not head or not head.next:\n",
    "            return head\n",
    "        node = self.reverseList(head.next)\n",
    "        head.next.next = head\n",
    "        head.next = None\n",
    "        return node'''\n"
   ]
  },
  {
   "cell_type": "code",
   "execution_count": 5,
   "metadata": {},
   "outputs": [],
   "source": [
    "# 876. Middle of the Linked List\n",
    "#Given the head of a singly linked list, return the middle node of the linked list.\n",
    "# If there are two middle nodes, return the second middle node.\n",
    "# Definition for singly-linked list.\n",
    "# class ListNode:\n",
    "#     def __init__(self, val=0, next=None):\n",
    "#         self.val = val\n",
    "#         self.next = next\n",
    "class Solution:\n",
    "    def middleNode(self, head):\n",
    "        sp = head\n",
    "        fp = head\n",
    "        while(fp != None and fp.next != None):\n",
    "            sp = sp.next\n",
    "            fp = fp.next.next\n",
    "        return sp\n",
    "        \n"
   ]
  },
  {
   "cell_type": "code",
   "execution_count": 6,
   "metadata": {},
   "outputs": [],
   "source": [
    "#Merge Two Sorted Lists\n",
    "#You are given the heads of two sorted linked lists list1 and list2.Merge the two lists into one sorted list. \n",
    "# The list should be made by splicing together the nodes of the first two lists.Return the head of the merged linked list.\n",
    "\n",
    "class Solution:\n",
    "    def mergeTwoLists(self, list1):\n",
    "        if not list1 or not list2:\n",
    "            return list1 if not list2 else list2\n",
    "        \n",
    "        seek, target = (list1,list2) if list1.val < list2.val else (list2,list1)\n",
    "        head = seek\n",
    "        while seek and target:\n",
    "            while seek.next and seek.next.val < target.val:\n",
    "                seek = seek.next\n",
    "            seek.next, target = target, seek.next\n",
    "            seek = seek.next\n",
    "        return head"
   ]
  },
  {
   "cell_type": "code",
   "execution_count": 7,
   "metadata": {},
   "outputs": [],
   "source": [
    "#Delete the Middle Node of a Linked List\n",
    "''' You are given the head of a linked list. Delete the middle node, and return the head of the modified linked list.\n",
    "\n",
    "The middle node of a linked list of size n is the ⌊n / 2⌋th node from the start using 0-based indexing, where ⌊x⌋ denotes the largest integer less than or equal to x.\n",
    "\n",
    "For n = 1, 2, 3, 4, and 5, the middle nodes are 0, 1, 1, 2, and 2, respectively.'''\n",
    "\n",
    "# Definition for singly-linked list.\n",
    "# class ListNode:\n",
    "#     def __init__(self, val=0, next=None):\n",
    "#         self.val = val\n",
    "#         self.next = next\n",
    "class Solution:\n",
    "    def deleteMiddle(self, head):\n",
    "        if head == None or head.next == None:\n",
    "            return None\n",
    "        \n",
    "        sp = head\n",
    "        fp= head.next.next\n",
    "        while fp != None and fp.next != None:\n",
    "            sp = sp.next\n",
    "            fp = fp.next.next\n",
    "        sp.next = sp.next.next\n",
    "        return head\n"
   ]
  },
  {
   "cell_type": "code",
   "execution_count": 8,
   "metadata": {},
   "outputs": [],
   "source": [
    "# delete nth element from end\n",
    "class Solution:\n",
    "    def removeNthFromEnd(self, head):\n",
    "        sp = head\n",
    "        fp = head\n",
    "        for i in range(n):\n",
    "            fp = fp.next\n",
    "        if not fp: return head.next\n",
    "        while (fp.next != None):\n",
    "            sp = sp.next\n",
    "            fp = fp.next\n",
    "        sp.next = sp.next.next\n",
    "        return head"
   ]
  },
  {
   "cell_type": "code",
   "execution_count": null,
   "metadata": {},
   "outputs": [],
   "source": []
  },
  {
   "cell_type": "code",
   "execution_count": null,
   "metadata": {},
   "outputs": [],
   "source": []
  }
 ],
 "metadata": {
  "kernelspec": {
   "display_name": "py3-TF2.0",
   "language": "python",
   "name": "python3"
  },
  "language_info": {
   "codemirror_mode": {
    "name": "ipython",
    "version": 3
   },
   "file_extension": ".py",
   "mimetype": "text/x-python",
   "name": "python",
   "nbconvert_exporter": "python",
   "pygments_lexer": "ipython3",
   "version": "3.9.15"
  },
  "orig_nbformat": 4
 },
 "nbformat": 4,
 "nbformat_minor": 2
}
