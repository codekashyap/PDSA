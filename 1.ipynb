{
 "cells": [
  {
   "cell_type": "code",
   "execution_count": 2,
   "metadata": {},
   "outputs": [],
   "source": [
    "# implement stack \n",
    "\n",
    "class Stack:\n",
    "    def __init__(self):\n",
    "        self.top = -1\n",
    "        self.size = 1000\n",
    "        self.arr = [0] * self.size\n",
    "\n",
    "\n",
    "    def push(self, x: int) -> None:\n",
    "        self.top += 1\n",
    "        self.arr[self.top] = x\n",
    "\n",
    "\n",
    "    def pop(self) -> int:\n",
    "        if self.top == -1:\n",
    "            return \"Stack Underflow\"\n",
    "        else:\n",
    "            x = self.arr[self.top]\n",
    "            self.top -= 1\n",
    "            return x\n",
    "\n",
    "\n",
    "    def Top(self) -> int:\n",
    "        return self.arr[self.top]\n",
    "\n",
    "\n",
    "    def Size(self) -> int:\n",
    "        return self.top + 1"
   ]
  },
  {
   "cell_type": "markdown",
   "metadata": {},
   "source": [
    "![Alt text](image.png)\n",
    "![Alt text](image-1.png)\n",
    "![Alt text](image-2.png)\n",
    "![Alt text](image-3.png)"
   ]
  },
  {
   "cell_type": "markdown",
   "metadata": {},
   "source": [
    "![Alt text](image-4.png)"
   ]
  },
  {
   "cell_type": "code",
   "execution_count": 4,
   "metadata": {},
   "outputs": [],
   "source": [
    "# Next Greater Element I -> right\n",
    "\n",
    "class Solution:\n",
    "    def nextGreaterElement(self, nums1, nums2):\n",
    "        res = []\n",
    "        stack = []\n",
    "        mapping = {}\n",
    "        \n",
    "        for n in nums2:\n",
    "            while stack and n > stack[-1]:\n",
    "                mapping[stack.pop()] = n\n",
    "            stack.append(n)\n",
    "            \n",
    "        while stack:\n",
    "            mapping[stack.pop()] = -1\n",
    "            \n",
    "        for n in nums1:\n",
    "            res.append(mapping[n])\n",
    "\n",
    "        return res"
   ]
  },
  {
   "cell_type": "code",
   "execution_count": null,
   "metadata": {},
   "outputs": [],
   "source": []
  },
  {
   "cell_type": "code",
   "execution_count": null,
   "metadata": {},
   "outputs": [],
   "source": []
  },
  {
   "cell_type": "code",
   "execution_count": null,
   "metadata": {},
   "outputs": [],
   "source": []
  }
 ],
 "metadata": {
  "kernelspec": {
   "display_name": "py3-TF2.0",
   "language": "python",
   "name": "python3"
  },
  "language_info": {
   "codemirror_mode": {
    "name": "ipython",
    "version": 3
   },
   "file_extension": ".py",
   "mimetype": "text/x-python",
   "name": "python",
   "nbconvert_exporter": "python",
   "pygments_lexer": "ipython3",
   "version": "3.9.15"
  },
  "orig_nbformat": 4
 },
 "nbformat": 4,
 "nbformat_minor": 2
}
