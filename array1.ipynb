{
 "cells": [
  {
   "cell_type": "code",
   "execution_count": 6,
   "metadata": {},
   "outputs": [
    {
     "data": {
      "text/plain": [
       "[9, 78, 1, 3, 4, 5]"
      ]
     },
     "execution_count": 6,
     "metadata": {},
     "output_type": "execute_result"
    }
   ],
   "source": [
    "#reverse the array\n",
    "def reverse_arr(arr):\n",
    "    st = 0\n",
    "    en = len(arr) - 1\n",
    "    while st < en:\n",
    "        arr[st], arr[en] = arr[en], arr[st]\n",
    "        st +=1\n",
    "        en -=1\n",
    "    return arr\n",
    "reverse_arr([5,4,3,1,78,9])"
   ]
  },
  {
   "cell_type": "code",
   "execution_count": 11,
   "metadata": {},
   "outputs": [
    {
     "data": {
      "text/plain": [
       "[0, 0, 0, 0, 1, 1, 1, 2, 2, 2, 2]"
      ]
     },
     "execution_count": 11,
     "metadata": {},
     "output_type": "execute_result"
    }
   ],
   "source": [
    "# dutch national flag algorithm\n",
    "# sort 0s, 1s, 2s without sorting without extra space\n",
    "\n",
    "l = [0,1,2,0,2,1,1,2,0,2,0]\n",
    "\n",
    "def arange(l):\n",
    "    low = 0\n",
    "    mid = 0\n",
    "    high = len(l) - 1\n",
    "    while(mid < high):\n",
    "        if (l[mid] == 0):\n",
    "            l[low],l[mid] = l[mid],l[low]\n",
    "            low +=1\n",
    "            mid +=1\n",
    "        elif (l[mid] == 1):\n",
    "            mid +=1\n",
    "        else:\n",
    "            l[mid],l[high] = l[high],l[mid]\n",
    "            high -=1\n",
    "    return l \n",
    "\n",
    "arange(l)"
   ]
  },
  {
   "cell_type": "code",
   "execution_count": 14,
   "metadata": {},
   "outputs": [
    {
     "data": {
      "text/plain": [
       "(0, 2)"
      ]
     },
     "execution_count": 14,
     "metadata": {},
     "output_type": "execute_result"
    }
   ],
   "source": [
    "min(l), max(l)"
   ]
  },
  {
   "cell_type": "code",
   "execution_count": 26,
   "metadata": {},
   "outputs": [
    {
     "data": {
      "text/plain": [
       "({1, 2, 3, 4, 7, 9, 11, 12, 23, 43}, 10)"
      ]
     },
     "execution_count": 26,
     "metadata": {},
     "output_type": "execute_result"
    }
   ],
   "source": [
    "l1 = [1,23,43,4,3,9,7]\n",
    "l2 = [12,3,9,4,2,11]\n",
    "# no of common element or length of union\n",
    "\n",
    "class sol:\n",
    "    def dounion(l1,l2):\n",
    "        return set(l1+l2), len(set(l1+l2))   # add(), clear(), intersection(), union(), remove()\n",
    "\n",
    "a = sol\n",
    "a.dounion(l1,l2)"
   ]
  },
  {
   "cell_type": "code",
   "execution_count": 27,
   "metadata": {},
   "outputs": [
    {
     "data": {
      "text/plain": [
       "{3, 4, 9}"
      ]
     },
     "execution_count": 27,
     "metadata": {},
     "output_type": "execute_result"
    }
   ],
   "source": [
    "set(l1).intersection(set(l2))"
   ]
  },
  {
   "cell_type": "code",
   "execution_count": 28,
   "metadata": {},
   "outputs": [
    {
     "data": {
      "text/plain": [
       "[5, 1, 2, 3, 4]"
      ]
     },
     "execution_count": 28,
     "metadata": {},
     "output_type": "execute_result"
    }
   ],
   "source": [
    "# Given an array, rotate the array by one position in clock-wise direction. cyclically rotate\n",
    "def rotate( arr, n):\n",
    "    st = 0\n",
    "    en= len(arr) -1\n",
    "    while(st < en):\n",
    "        arr[st],arr[en] = arr[en],arr[st]\n",
    "        st +=1\n",
    "    return arr\n",
    "rotate([1,2,3,4,5],5)"
   ]
  },
  {
   "cell_type": "code",
   "execution_count": 50,
   "metadata": {},
   "outputs": [
    {
     "name": "stdout",
     "output_type": "stream",
     "text": [
      "[[1, 0, 1], [0, 0, 0], [1, 0, 1]]\n"
     ]
    }
   ],
   "source": [
    "#Set Matrix Zeroes\n",
    "matrix = [[1,1,1],[1,0,1],[1,1,1]]\n",
    "n = len(matrix)\n",
    "m = len(matrix[0])\n",
    "\n",
    "def brute_force(matrix): \n",
    "    for i in range(len(matrix)):\n",
    "        for j in range(len(matrix[i])):\n",
    "            if matrix[i][j] == 0:\n",
    "                matrix[i][j] = -1\n",
    "    for i in range(len(matrix)):\n",
    "        for j in range(len(matrix[i])):\n",
    "            if matrix[i][j] == -1:\n",
    "                for k in range(len(matrix)):\n",
    "                    matrix[k][j] = 0\n",
    "                for l in range(len(matrix[i])):\n",
    "                    matrix[i][l] = 0\n",
    "\n",
    "\n",
    "\n",
    "def optimal(matrix,n,m):\n",
    "    row = [0] * n  # row array\n",
    "    col = [0] * m  # col array\n",
    "\n",
    "    # Traverse the matrix:\n",
    "    for i in range(n):\n",
    "        for j in range(m):\n",
    "            if matrix[i][j] == 0:\n",
    "                # mark ith index of row wih 1:\n",
    "                row[i] = 1\n",
    "\n",
    "                # mark jth index of col wih 1:\n",
    "                col[j] = 1\n",
    "\n",
    "    # Finally, mark all (i, j) as 0\n",
    "    # if row[i] or col[j] is marked with 1.\n",
    "    for i in range(n):\n",
    "        for j in range(m):\n",
    "            if row[i] or col[j]:\n",
    "                matrix[i][j] = 0\n",
    "\n",
    "    return matrix\n",
    "\n",
    "def mostoptimal(matrix,n,m):\n",
    "    col0 = 1\n",
    "    # step 1: Traverse the matrix and\n",
    "    # mark 1st row & col accordingly:\n",
    "    for i in range(n):\n",
    "        for j in range(m):\n",
    "            if matrix[i][j] == 0:\n",
    "                # mark i-th row:\n",
    "                matrix[i][0] = 0\n",
    "\n",
    "                # mark j-th column:\n",
    "                if j != 0:\n",
    "                    matrix[0][j] = 0\n",
    "                else:\n",
    "                    col0 = 0\n",
    "\n",
    "    # Step 2: Mark with 0 from (1,1) to (n-1, m-1):\n",
    "    for i in range(1, n):\n",
    "        for j in range(1, m):\n",
    "            if matrix[i][j] != 0:\n",
    "                # check for col & row:\n",
    "                if matrix[i][0] == 0 or matrix[0][j] == 0:\n",
    "                    matrix[i][j] = 0\n",
    "\n",
    "    #step 3: Finally mark the 1st col & then 1st row:\n",
    "    if matrix[0][0] == 0:\n",
    "        for j in range(m):\n",
    "            matrix[0][j] = 0\n",
    "    if col0 == 0:\n",
    "        for i in range(n):\n",
    "            matrix[i][0] = 0\n",
    "\n",
    "    return matrix\n",
    "\n",
    "print(mostoptimal(matrix,n,m))"
   ]
  },
  {
   "cell_type": "code",
   "execution_count": 59,
   "metadata": {},
   "outputs": [
    {
     "data": {
      "text/plain": [
       "[[1], [1, 1], [1, 2, 1], [1, 3, 3, 1], [1, 4, 6, 4, 1]]"
      ]
     },
     "execution_count": 59,
     "metadata": {},
     "output_type": "execute_result"
    }
   ],
   "source": [
    "# pascal triangle\n",
    "''' For example, givennumRows= 5,\n",
    "Return\n",
    "[\n",
    "        [1],\n",
    "       [1,1],\n",
    "      [1,2,1],\n",
    "     [1,3,3,1],\n",
    "    [1,4,6,4,1]\n",
    "] '''\n",
    "\n",
    "def pascal(n):\n",
    "    l = []\n",
    "    for i in range(1,n+1):\n",
    "        l1 = [1]*i\n",
    "        l.append(l1)\n",
    "    for j in range(2,n):\n",
    "        for k in range(1,len(l[j])-1):\n",
    "            l[j][k] = l[j-1][k-1] + l[j-1][k]\n",
    "    return l\n",
    "\n",
    "def pascaloptimal(n):\n",
    "    ans = 1\n",
    "    ansRow = [1]\n",
    "    for col in range(1, row):\n",
    "        ans *= (row - col)\n",
    "        ans //= col\n",
    "        ansRow.append(ans)\n",
    "    return ansRow\n",
    "\n",
    "pascal(5)"
   ]
  },
  {
   "cell_type": "code",
   "execution_count": 12,
   "metadata": {},
   "outputs": [
    {
     "data": {
      "text/plain": [
       "[2, 3, 5, 0, 0, 1, 4]"
      ]
     },
     "execution_count": 12,
     "metadata": {},
     "output_type": "execute_result"
    }
   ],
   "source": [
    "## Next Permutation\n",
    "def NextPermutation(A):\n",
    "    n=len(A)\n",
    "    ind = -1\n",
    "    for i in range(n-2,-1,-1):\n",
    "        if A[i] < A[i+1]:\n",
    "            ind = i\n",
    "            break\n",
    "    if ind == -1:\n",
    "        A.reverse()\n",
    "        return A\n",
    "    else:\n",
    "        for k in range(n-1,-1,-1):\n",
    "            if A[k]> A[ind]:\n",
    "                A[k],A[ind] = A[ind],A[k]\n",
    "                break\n",
    "        A[ind+1:] = reversed(A[ind+1:])\n",
    "        return A\n",
    "    \n",
    "NextPermutation([2,3,4,5,1,0,0])\n"
   ]
  },
  {
   "cell_type": "code",
   "execution_count": 18,
   "metadata": {},
   "outputs": [
    {
     "name": "stdout",
     "output_type": "stream",
     "text": [
      "The maximum subarray sum is: 11\n"
     ]
    }
   ],
   "source": [
    "# max sum of subarray -> kadane algorithm i.e. keep adding arr[i] to sum and if sum<0 ->drop: restart\n",
    " \n",
    "def maxSubarraySum(arr, n):\n",
    "    maxi = arr[0] # maximum sum\n",
    "    sum = 0\n",
    "\n",
    "    for i in range(n):\n",
    "        sum += arr[i]\n",
    "\n",
    "        if sum > maxi:\n",
    "            maxi = sum\n",
    "\n",
    "        # If sum < 0: discard the sum calculated\n",
    "        if sum < 0:\n",
    "            sum = 0\n",
    "\n",
    "    # To consider the sum of the empty subarray\n",
    "    # uncomment the following check:\n",
    "\n",
    "    #if maxi < 0: maxi = 0\n",
    "\n",
    "    return maxi\n",
    "\n",
    "arr = [-2, 1, -3, 4, -1, 2, 1, 5, -3]\n",
    "n = len(arr)\n",
    "maxSum = maxSubarraySum(arr, n)\n",
    "print(\"The maximum subarray sum is:\", maxSum)\n"
   ]
  },
  {
   "cell_type": "code",
   "execution_count": 19,
   "metadata": {},
   "outputs": [
    {
     "name": "stdout",
     "output_type": "stream",
     "text": [
      "The maximum subarray sum is: [4, -1, 2, 1, 5]\n"
     ]
    }
   ],
   "source": [
    "# find any subarray with max sum : kadane algo\n",
    "\n",
    "def maxSubarray(arr, n):\n",
    "    maxi = arr[0] # maximum sum\n",
    "    sum = 0\n",
    "\n",
    "    for i in range(n):\n",
    "        if sum == 0:\n",
    "            start = i\n",
    "        sum += arr[i]\n",
    "\n",
    "        if sum > maxi:\n",
    "            maxi = sum\n",
    "            ansSt = start\n",
    "            ansEnd = i\n",
    "        # If sum < 0: discard the sum calculated\n",
    "        if sum < 0:\n",
    "            sum = 0\n",
    "\n",
    "    # To consider the sum of the empty subarray\n",
    "    # uncomment the following check:\n",
    "\n",
    "    #if maxi < 0: maxi = 0\n",
    "\n",
    "    return arr[ansSt:i]\n",
    "\n",
    "arr = [-2, 1, -3, 4, -1, 2, 1, 5, -3]\n",
    "n = len(arr)\n",
    "maxSum = maxSubarray(arr, n)\n",
    "print(\"The maximum subarray sum is:\", maxSum)"
   ]
  },
  {
   "cell_type": "code",
   "execution_count": 20,
   "metadata": {},
   "outputs": [
    {
     "name": "stdout",
     "output_type": "stream",
     "text": [
      "Max profit is: 5\n"
     ]
    }
   ],
   "source": [
    "# stock sell and buy with max profit\n",
    "\n",
    "def maxProfit(arr):\n",
    "    maxPro = 0\n",
    "    minPrice = float('inf')\n",
    "    for i in range(len(arr)):\n",
    "        minPrice = min(minPrice, arr[i])\n",
    "        maxPro = max(maxPro, arr[i] - minPrice)\n",
    "    return maxPro\n",
    "\n",
    "arr = [7, 1, 5, 3, 6, 4]\n",
    "maxPro = maxProfit(arr)\n",
    "print(\"Max profit is:\", maxPro)"
   ]
  }
 ],
 "metadata": {
  "kernelspec": {
   "display_name": "py3-TF2.0",
   "language": "python",
   "name": "python3"
  },
  "language_info": {
   "codemirror_mode": {
    "name": "ipython",
    "version": 3
   },
   "file_extension": ".py",
   "mimetype": "text/x-python",
   "name": "python",
   "nbconvert_exporter": "python",
   "pygments_lexer": "ipython3",
   "version": "3.9.15"
  },
  "orig_nbformat": 4
 },
 "nbformat": 4,
 "nbformat_minor": 2
}
