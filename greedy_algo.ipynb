{
 "cells": [
  {
   "cell_type": "code",
   "execution_count": 1,
   "metadata": {},
   "outputs": [],
   "source": [
    "# n meeting problem \n",
    "\n",
    "class Solution:\n",
    "    \n",
    "    #Function to find the maximum number of meetings that can\n",
    "    #be performed in a meeting room.\n",
    "    def maximumMeetings(self,n,start,end):\n",
    "        l = []\n",
    "        for i in range(n):\n",
    "            l.append([end[i],start[i],i])\n",
    "        l = sorted(l)\n",
    "        ans = 1\n",
    "        end_time = l[0][0]\n",
    "        for i in range(1,n):\n",
    "            if end_time < l[i][1]:\n",
    "                ans+=1\n",
    "                end_time = l[i][0]\n",
    "        return ans\n",
    "        "
   ]
  },
  {
   "cell_type": "code",
   "execution_count": 2,
   "metadata": {},
   "outputs": [],
   "source": [
    "# minimum no of platform require\n",
    "\n",
    "class Solution:    \n",
    "    #Function to find the minimum number of platforms required at the\n",
    "    #railway station such that no train waits.\n",
    "    def minimumPlatform(self,n,arr,dep):\n",
    "        arr = sorted(arr)\n",
    "        dep = sorted(dep)\n",
    "        res = 1\n",
    "        curr_req = 1\n",
    "        i =1  \n",
    "        j =0\n",
    "        while i < n and j < n:\n",
    "            if arr[i] <= dep[j]:\n",
    "                curr_req += 1\n",
    "                i+=1\n",
    "            elif arr[i] > dep[j]:\n",
    "                curr_req -= 1\n",
    "                j += 1\n",
    "            if res < curr_req:\n",
    "                res = curr_req\n",
    "        return res"
   ]
  },
  {
   "cell_type": "code",
   "execution_count": 3,
   "metadata": {},
   "outputs": [],
   "source": [
    "# Job scheduling\n",
    "\n",
    "class Solution:\n",
    "    \n",
    "    #Function to find the maximum profit and the number of jobs done.\n",
    "    def JobScheduling(self,Jobs,n):\n",
    "        Jobs.sort(key=lambda x: (x.profit), reverse=True)\n",
    "        task = 0\n",
    "        pro = 0\n",
    "        maxdead = -1\n",
    "        for i in range(n):\n",
    "            if Jobs[i].deadline > maxdead:\n",
    "                maxdead = Jobs[i].deadline\n",
    "        #print(maxdead)\n",
    "        allot = [-1]*maxdead\n",
    "        #print(allot)\n",
    "        for i in range(n):\n",
    "            c = Jobs[i].deadline -1\n",
    "            while c > 0 and allot[c] != -1:\n",
    "                c-=1\n",
    "            if allot[c] == -1:\n",
    "                allot[c] = Jobs[i].id\n",
    "                task +=1\n",
    "                pro += Jobs[i].profit\n",
    "        #print(allot)\n",
    "        return task,pro   "
   ]
  },
  {
   "cell_type": "code",
   "execution_count": 4,
   "metadata": {},
   "outputs": [],
   "source": [
    "# knapsack \n",
    "\n",
    "class Item:\n",
    "    def __init__(self,val,w):\n",
    "        self.value = val\n",
    "        self.weight = w\n",
    "        \n",
    "class Solution:    \n",
    "    #Function to get the maximum total value in the knapsack.\n",
    "    def fractionalknapsack(self, W,arr,n):\n",
    "        arr.sort(key=lambda x: (x.value/x.weight), reverse=True)\n",
    "        ans = 0\n",
    "        cur = W\n",
    "        for i in range(n):\n",
    "            if  cur >= arr[i].weight:\n",
    "                ans += arr[i].value\n",
    "                cur -= arr[i].weight\n",
    "            elif cur!= 0 and cur < arr[i].weight:\n",
    "                ans += ((arr[i].value/arr[i].weight) * (cur))\n",
    "                cur = 0\n",
    "        return ans"
   ]
  },
  {
   "cell_type": "code",
   "execution_count": null,
   "metadata": {},
   "outputs": [],
   "source": []
  }
 ],
 "metadata": {
  "kernelspec": {
   "display_name": "py3-TF2.0",
   "language": "python",
   "name": "python3"
  },
  "language_info": {
   "codemirror_mode": {
    "name": "ipython",
    "version": 3
   },
   "file_extension": ".py",
   "mimetype": "text/x-python",
   "name": "python",
   "nbconvert_exporter": "python",
   "pygments_lexer": "ipython3",
   "version": "3.9.15"
  },
  "orig_nbformat": 4
 },
 "nbformat": 4,
 "nbformat_minor": 2
}
