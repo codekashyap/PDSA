{
 "cells": [
  {
   "cell_type": "code",
   "execution_count": 5,
   "metadata": {},
   "outputs": [],
   "source": [
    "# intersection pint of list (y intersection)\n",
    "\n",
    "# Definition for singly-linked list.\n",
    "# class ListNode:\n",
    "#     def __init__(self, x):\n",
    "#         self.val = x\n",
    "#         self.next = None\n",
    "\n",
    "class Solution:\n",
    "    def getIntersectionNode(self, headA, headB):\n",
    "        pa = headA\n",
    "        pb = headB\n",
    "        while (pa != pb):   # even both have no common point then at end both have none which will common point\n",
    "            if (pa == None):\n",
    "                pa = headB\n",
    "            else:\n",
    "                pa = pa.next\n",
    "            if (pb == None):\n",
    "                pb = headA\n",
    "            else:\n",
    "                pb = pb.next\n",
    "        return pa\n",
    "        \n",
    "            \n",
    "\n",
    "        "
   ]
  },
  {
   "cell_type": "markdown",
   "metadata": {},
   "source": [
    "Linked List Cycle\n",
    "\n",
    "![Alt text](image.png)"
   ]
  },
  {
   "cell_type": "code",
   "execution_count": 6,
   "metadata": {},
   "outputs": [],
   "source": [
    "# Linked List Cycle\n",
    "\n",
    "# Definition for singly-linked list.\n",
    "# class ListNode:\n",
    "#     def __init__(self, x):\n",
    "#         self.val = x\n",
    "#         self.next = None\n",
    "\n",
    "class Solution:\n",
    "    def hasCycle(self, head):   \n",
    "        sp = fp = head\n",
    "        while (fp != None  and fp.next != None):   # fp or fp.next become None then no cycle\n",
    "            sp = sp.next\n",
    "            fp = fp.next.next\n",
    "            if sp == fp:\n",
    "                return True\n",
    "        return False"
   ]
  },
  {
   "cell_type": "code",
   "execution_count": null,
   "metadata": {},
   "outputs": [],
   "source": [
    "# Linked List Cycle II   POSITION WHERE CYCLE STARTS\n",
    "\n",
    "class Solution:\n",
    "    def detectCycle(self, head):  \n",
    "        slow = fast = head\n",
    "        while fast and fast.next:\n",
    "            slow, fast = slow.next, fast.next.next\n",
    "            if slow == fast: \n",
    "                break\n",
    "        else: \n",
    "            return None  # if not (fast and fast.next): return None\n",
    "        while head != slow:\n",
    "            head, slow = head.next, slow.next\n",
    "        return head"
   ]
  },
  {
   "cell_type": "code",
   "execution_count": 2,
   "metadata": {},
   "outputs": [],
   "source": [
    "# palindrome check\n",
    "\n",
    "# Definition for singly-linked list.\n",
    "# class ListNode:\n",
    "#     def __init__(self, val=0, next=None):\n",
    "#         self.val = val\n",
    "#         self.next = next\n",
    "class Solution:\n",
    "    def isPalindrome(self, head):\n",
    "        fast = slow = head\n",
    "        # find the mid node\n",
    "        while fast and fast.next:\n",
    "            fast = fast.next.next\n",
    "            slow = slow.next\n",
    "        # reverse the second half\n",
    "        node = None\n",
    "        while slow:\n",
    "            nxt = slow.next\n",
    "            slow.next = node\n",
    "            node = slow\n",
    "            slow = nxt\n",
    "        # compare the first and second half nodes\n",
    "        while node: # while node and head:\n",
    "            if node.val != head.val:\n",
    "                return False\n",
    "            node = node.next\n",
    "            head = head.next\n",
    "        return True\n",
    "        "
   ]
  },
  {
   "cell_type": "code",
   "execution_count": 7,
   "metadata": {},
   "outputs": [],
   "source": [
    "# remove the loop\n",
    "\n",
    "def remove(self, head):\n",
    "    s = set()\n",
    "    p = head\n",
    "    while p:\n",
    "        if p not in s:s.add(p)\n",
    "        else:break\n",
    "        q = p\n",
    "        p=p.next\n",
    "    q.next = None"
   ]
  },
  {
   "cell_type": "code",
   "execution_count": null,
   "metadata": {},
   "outputs": [],
   "source": []
  }
 ],
 "metadata": {
  "kernelspec": {
   "display_name": "py3-TF2.0",
   "language": "python",
   "name": "python3"
  },
  "language_info": {
   "codemirror_mode": {
    "name": "ipython",
    "version": 3
   },
   "file_extension": ".py",
   "mimetype": "text/x-python",
   "name": "python",
   "nbconvert_exporter": "python",
   "pygments_lexer": "ipython3",
   "version": "3.9.15"
  },
  "orig_nbformat": 4
 },
 "nbformat": 4,
 "nbformat_minor": 2
}
